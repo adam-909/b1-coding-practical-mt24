{
 "cells": [
  {
   "cell_type": "code",
   "execution_count": 1,
   "metadata": {},
   "outputs": [],
   "source": [
    "# Add relevant Jupyter notebook extensions"
   ]
  },
  {
   "cell_type": "code",
   "execution_count": 15,
   "metadata": {},
   "outputs": [
    {
     "name": "stdout",
     "output_type": "stream",
     "text": [
      "['C:\\\\Users\\\\adamf\\\\AppData\\\\Local\\\\Programs\\\\Python\\\\Python310\\\\python310.zip', 'C:\\\\Users\\\\adamf\\\\AppData\\\\Local\\\\Programs\\\\Python\\\\Python310\\\\DLLs', 'C:\\\\Users\\\\adamf\\\\AppData\\\\Local\\\\Programs\\\\Python\\\\Python310\\\\lib', 'C:\\\\Users\\\\adamf\\\\AppData\\\\Local\\\\Programs\\\\Python\\\\Python310', 'c:\\\\Users\\\\adamf\\\\.venvs\\\\first-venv', '', 'c:\\\\Users\\\\adamf\\\\.venvs\\\\first-venv\\\\lib\\\\site-packages', 'c:\\\\Users\\\\adamf\\\\.venvs\\\\first-venv\\\\lib\\\\site-packages\\\\win32', 'c:\\\\Users\\\\adamf\\\\.venvs\\\\first-venv\\\\lib\\\\site-packages\\\\win32\\\\lib', 'c:\\\\Users\\\\adamf\\\\.venvs\\\\first-venv\\\\lib\\\\site-packages\\\\Pythonwin']\n"
     ]
    }
   ],
   "source": [
    "# You can double-check your Python path like this...\n",
    "import sys  \n",
    "print(sys.path)"
   ]
  },
  {
   "cell_type": "markdown",
   "metadata": {},
   "source": [
    "# Simulate closed-loop\n",
    "After implementing your control functionality, you can simulate the closed-loop with code that looks something like this..."
   ]
  },
  {
   "cell_type": "code",
   "execution_count": 18,
   "metadata": {},
   "outputs": [
    {
     "ename": "SyntaxError",
     "evalue": "(unicode error) 'unicodeescape' codec can't decode bytes in position 2-3: truncated \\UXXXXXXXX escape (1924344694.py, line 16)",
     "output_type": "error",
     "traceback": [
      "\u001b[1;36m  Cell \u001b[1;32mIn[18], line 16\u001b[1;36m\u001b[0m\n\u001b[1;33m    mission = Mission.from_csv(\"C:\\Users\\adamf\\Desktop\\Coding\\Scientific Coding\\Task 1\\b1-coding-practical-mt24\\mission.csv\")\u001b[0m\n\u001b[1;37m                                                                                                                            ^\u001b[0m\n\u001b[1;31mSyntaxError\u001b[0m\u001b[1;31m:\u001b[0m (unicode error) 'unicodeescape' codec can't decode bytes in position 2-3: truncated \\UXXXXXXXX escape\n"
     ]
    }
   ],
   "source": [
    "# Import relevant modules\n",
    "import numpy as np\n",
    "import pandas as pd\n",
    "from matplotlib import pyplot as plt\n",
    "from dynamic import Submarine, ClosedLoop, Mission, Trajectory  # Ensure these imports are correct\n",
    "from control import PDController  # Import the PDController\n",
    "\n",
    "# Instantiate your submarine and controller\n",
    "sub = Submarine()\n",
    "controller = PDController()  # Instantiate the PDController\n",
    "\n",
    "# Instantiate the closed loop system\n",
    "closed_loop = ClosedLoop(sub, controller)\n",
    "\n",
    "# Load the mission from a CSV file\n",
    "mission = Mission.from_csv(\"C:\\\\Users\\\\adamf\\\\Desktop\\\\Coding\\\\Scientific Coding\\\\Task 1\\\\b1-coding-practical-mt24\\\\mission.csv\")\n",
    "\n",
    "# Simulate the mission with random disturbances\n",
    "trajectory = closed_loop.simulate_with_random_disturbances(mission)\n",
    "\n",
    "# Plot the completed mission\n",
    "trajectory.plot_completed_mission(mission)"
   ]
  }
 ],
 "metadata": {
  "kernelspec": {
   "display_name": "first-venv",
   "language": "python",
   "name": "python3"
  },
  "language_info": {
   "codemirror_mode": {
    "name": "ipython",
    "version": 3
   },
   "file_extension": ".py",
   "mimetype": "text/x-python",
   "name": "python",
   "nbconvert_exporter": "python",
   "pygments_lexer": "ipython3",
   "version": "3.10.5"
  }
 },
 "nbformat": 4,
 "nbformat_minor": 2
}
